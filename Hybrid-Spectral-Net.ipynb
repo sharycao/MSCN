{
 "cells": [
  {
   "cell_type": "code",
   "execution_count": 1,
   "metadata": {},
   "outputs": [
    {
     "name": "stderr",
     "output_type": "stream",
     "text": [
      "Using TensorFlow backend.\n"
     ]
    },
    {
     "data": {
      "text/html": [
       "        <script type=\"text/javascript\">\n",
       "        window.PlotlyConfig = {MathJaxConfig: 'local'};\n",
       "        if (window.MathJax) {MathJax.Hub.Config({SVG: {font: \"STIX-Web\"}});}\n",
       "        if (typeof require !== 'undefined') {\n",
       "        require.undef(\"plotly\");\n",
       "        requirejs.config({\n",
       "            paths: {\n",
       "                'plotly': ['https://cdn.plot.ly/plotly-latest.min']\n",
       "            }\n",
       "        });\n",
       "        require(['plotly'], function(Plotly) {\n",
       "            window._Plotly = Plotly;\n",
       "        });\n",
       "        }\n",
       "        </script>\n",
       "        "
      ]
     },
     "metadata": {},
     "output_type": "display_data"
    }
   ],
   "source": [
    "import keras\n",
    "from keras.layers import Conv2D, Conv3D, Flatten, Dense, Reshape, BatchNormalization\n",
    "from keras.layers import Dropout, Input\n",
    "from keras.models import Model\n",
    "from keras.optimizers import Adam\n",
    "from keras.callbacks import ModelCheckpoint\n",
    "from keras.utils import np_utils\n",
    "\n",
    "from sklearn.decomposition import PCA\n",
    "from sklearn.model_selection import train_test_split\n",
    "from sklearn.metrics import confusion_matrix, accuracy_score, classification_report, cohen_kappa_score\n",
    "\n",
    "from operator import truediv\n",
    "\n",
    "from plotly.offline import init_notebook_mode\n",
    "\n",
    "import numpy as np\n",
    "import matplotlib.pyplot as plt\n",
    "import scipy.io as sio\n",
    "import os\n",
    "import spectral\n",
    "\n",
    "init_notebook_mode(connected=True)\n",
    "%matplotlib inline"
   ]
  },
  {
   "cell_type": "markdown",
   "metadata": {},
   "source": [
    "# Data Loading"
   ]
  },
  {
   "cell_type": "code",
   "execution_count": 2,
   "metadata": {},
   "outputs": [],
   "source": [
    "## GLOBAL VARIABLES\n",
    "dataset = 'SA'\n",
    "test_ratio = 0.99\n",
    "windowSize = 25"
   ]
  },
  {
   "cell_type": "code",
   "execution_count": 3,
   "metadata": {},
   "outputs": [],
   "source": [
    "def loadData(name):\n",
    "    data_path = os.path.join(os.getcwd(),'data')\n",
    "    if name == 'IP':\n",
    "        data = sio.loadmat(os.path.join(data_path, 'Indian_pines_corrected.mat'))['indian_pines_corrected']\n",
    "        labels = sio.loadmat(os.path.join(data_path, 'Indian_pines_gt.mat'))['indian_pines_gt']\n",
    "    elif name == 'SA':\n",
    "        data = sio.loadmat(os.path.join(data_path, 'Salinas_corrected.mat'))['salinas_corrected']\n",
    "        labels = sio.loadmat(os.path.join(data_path, 'Salinas_gt.mat'))['salinas_gt']\n",
    "    elif name == 'PU':\n",
    "        data = sio.loadmat(os.path.join(data_path, 'PaviaU.mat'))['paviaU']\n",
    "        labels = sio.loadmat(os.path.join(data_path, 'PaviaU_gt.mat'))['paviaU_gt']\n",
    "    \n",
    "    return data, labels"
   ]
  },
  {
   "cell_type": "code",
   "execution_count": 4,
   "metadata": {},
   "outputs": [],
   "source": [
    "def splitTrainTestSet(X, y, testRatio, randomState=345):\n",
    "    X_train, X_test, y_train, y_test = train_test_split(X, y, test_size=testRatio, random_state=randomState,\n",
    "                                                        stratify=y)\n",
    "    return X_train, X_test, y_train, y_test"
   ]
  },
  {
   "cell_type": "code",
   "execution_count": 5,
   "metadata": {},
   "outputs": [],
   "source": [
    "def applyPCA(X, numComponents=75):\n",
    "    newX = np.reshape(X, (-1, X.shape[2]))\n",
    "    pca = PCA(n_components=numComponents, whiten=True)\n",
    "    newX = pca.fit_transform(newX)\n",
    "    newX = np.reshape(newX, (X.shape[0],X.shape[1], numComponents))\n",
    "    return newX, pca"
   ]
  },
  {
   "cell_type": "code",
   "execution_count": 6,
   "metadata": {},
   "outputs": [],
   "source": [
    "def padWithZeros(X, margin=2):\n",
    "    newX = np.zeros((X.shape[0] + 2 * margin, X.shape[1] + 2* margin, X.shape[2]))\n",
    "    x_offset = margin\n",
    "    y_offset = margin\n",
    "    newX[x_offset:X.shape[0] + x_offset, y_offset:X.shape[1] + y_offset, :] = X\n",
    "    return newX"
   ]
  },
  {
   "cell_type": "code",
   "execution_count": 7,
   "metadata": {},
   "outputs": [],
   "source": [
    "def createImageCubes(X, y, windowSize=5, removeZeroLabels = True):\n",
    "    margin = int((windowSize - 1) / 2)\n",
    "    zeroPaddedX = padWithZeros(X, margin=margin)\n",
    "    # split patches\n",
    "    patchesData = np.zeros((X.shape[0] * X.shape[1], windowSize, windowSize, X.shape[2]))\n",
    "    patchesLabels = np.zeros((X.shape[0] * X.shape[1]))\n",
    "    patchIndex = 0\n",
    "    for r in range(margin, zeroPaddedX.shape[0] - margin):\n",
    "        for c in range(margin, zeroPaddedX.shape[1] - margin):\n",
    "            patch = zeroPaddedX[r - margin:r + margin + 1, c - margin:c + margin + 1]   \n",
    "            patchesData[patchIndex, :, :, :] = patch\n",
    "            patchesLabels[patchIndex] = y[r-margin, c-margin]\n",
    "            patchIndex = patchIndex + 1\n",
    "    if removeZeroLabels:\n",
    "        patchesData = patchesData[patchesLabels>0,:,:,:]\n",
    "        patchesLabels = patchesLabels[patchesLabels>0]\n",
    "        patchesLabels -= 1\n",
    "    return patchesData, patchesLabels"
   ]
  },
  {
   "cell_type": "code",
   "execution_count": 8,
   "metadata": {},
   "outputs": [
    {
     "data": {
      "text/plain": [
       "((512, 217, 204), (512, 217))"
      ]
     },
     "execution_count": 8,
     "metadata": {},
     "output_type": "execute_result"
    }
   ],
   "source": [
    "X, y = loadData(dataset)\n",
    "\n",
    "X.shape, y.shape"
   ]
  },
  {
   "cell_type": "code",
   "execution_count": 9,
   "metadata": {},
   "outputs": [],
   "source": [
    "K = X.shape[2]"
   ]
  },
  {
   "cell_type": "code",
   "execution_count": 10,
   "metadata": {},
   "outputs": [
    {
     "data": {
      "text/plain": [
       "(512, 217, 15)"
      ]
     },
     "execution_count": 10,
     "metadata": {},
     "output_type": "execute_result"
    }
   ],
   "source": [
    "K = 30 if dataset == 'IP' else 15\n",
    "X,pca = applyPCA(X,numComponents=K)\n",
    "\n",
    "X.shape"
   ]
  },
  {
   "cell_type": "code",
   "execution_count": 11,
   "metadata": {},
   "outputs": [
    {
     "data": {
      "text/plain": [
       "((54129, 25, 25, 15), (54129,))"
      ]
     },
     "execution_count": 11,
     "metadata": {},
     "output_type": "execute_result"
    }
   ],
   "source": [
    "X, y = createImageCubes(X, y, windowSize=windowSize)\n",
    "\n",
    "X.shape, y.shape"
   ]
  },
  {
   "cell_type": "code",
   "execution_count": 12,
   "metadata": {},
   "outputs": [
    {
     "data": {
      "text/plain": [
       "((541, 25, 25, 15), (53588, 25, 25, 15), (541,), (53588,))"
      ]
     },
     "execution_count": 12,
     "metadata": {},
     "output_type": "execute_result"
    }
   ],
   "source": [
    "Xtrain, Xtest, ytrain, ytest = splitTrainTestSet(X, y, test_ratio)\n",
    "\n",
    "Xtrain.shape, Xtest.shape, ytrain.shape, ytest.shape"
   ]
  },
  {
   "cell_type": "markdown",
   "metadata": {},
   "source": [
    "Xtrain, Xvalid, ytrain, yvalid = splitTrainTestSet(Xtrain, ytrain, 0.3333)\n",
    "\n",
    "Xtrain.shape, Xvalid.shape, ytrain.shape, yvalid.shape"
   ]
  },
  {
   "cell_type": "markdown",
   "metadata": {},
   "source": [
    "# Model and Training"
   ]
  },
  {
   "cell_type": "code",
   "execution_count": 13,
   "metadata": {},
   "outputs": [
    {
     "data": {
      "text/plain": [
       "(541, 25, 25, 15, 1)"
      ]
     },
     "execution_count": 13,
     "metadata": {},
     "output_type": "execute_result"
    }
   ],
   "source": [
    "Xtrain = Xtrain.reshape(-1, windowSize, windowSize, K, 1)\n",
    "Xtrain.shape"
   ]
  },
  {
   "cell_type": "code",
   "execution_count": 14,
   "metadata": {},
   "outputs": [
    {
     "data": {
      "text/plain": [
       "(541, 16)"
      ]
     },
     "execution_count": 14,
     "metadata": {},
     "output_type": "execute_result"
    }
   ],
   "source": [
    "ytrain = np_utils.to_categorical(ytrain)\n",
    "ytrain.shape"
   ]
  },
  {
   "cell_type": "markdown",
   "metadata": {},
   "source": [
    "Xvalid = Xvalid.reshape(-1, windowSize, windowSize, K, 1)\n",
    "Xvalid.shape"
   ]
  },
  {
   "cell_type": "markdown",
   "metadata": {},
   "source": [
    "yvalid = np_utils.to_categorical(yvalid)\n",
    "yvalid.shape"
   ]
  },
  {
   "cell_type": "code",
   "execution_count": 15,
   "metadata": {},
   "outputs": [],
   "source": [
    "S = windowSize\n",
    "L = K\n",
    "output_units = 9 if (dataset == 'PU' or dataset == 'PC') else 16"
   ]
  },
  {
   "cell_type": "code",
   "execution_count": 16,
   "metadata": {},
   "outputs": [
    {
     "name": "stdout",
     "output_type": "stream",
     "text": [
      "(None, 19, 19, 3, 32)\n"
     ]
    }
   ],
   "source": [
    "## input layer\n",
    "input_layer = Input((S, S, L, 1))\n",
    "\n",
    "## convolutional layers\n",
    "conv_layer1 = Conv3D(filters=8, kernel_size=(3, 3, 7), activation='relu')(input_layer)\n",
    "conv_layer2 = Conv3D(filters=16, kernel_size=(3, 3, 5), activation='relu')(conv_layer1)\n",
    "conv_layer3 = Conv3D(filters=32, kernel_size=(3, 3, 3), activation='relu')(conv_layer2)\n",
    "print(conv_layer3._keras_shape)\n",
    "conv3d_shape = conv_layer3._keras_shape\n",
    "conv_layer3 = Reshape((conv3d_shape[1], conv3d_shape[2], conv3d_shape[3]*conv3d_shape[4]))(conv_layer3)\n",
    "conv_layer4 = Conv2D(filters=64, kernel_size=(3,3), activation='relu')(conv_layer3)\n",
    "\n",
    "flatten_layer = Flatten()(conv_layer4)\n",
    "\n",
    "## fully connected layers\n",
    "dense_layer1 = Dense(units=256, activation='relu')(flatten_layer)\n",
    "dense_layer1 = Dropout(0.4)(dense_layer1)\n",
    "dense_layer2 = Dense(units=128, activation='relu')(dense_layer1)\n",
    "dense_layer2 = Dropout(0.4)(dense_layer2)\n",
    "output_layer = Dense(units=output_units, activation='softmax')(dense_layer2)"
   ]
  },
  {
   "cell_type": "code",
   "execution_count": 17,
   "metadata": {},
   "outputs": [],
   "source": [
    "# define the model with input layer and output layer\n",
    "model = Model(inputs=input_layer, outputs=output_layer)"
   ]
  },
  {
   "cell_type": "code",
   "execution_count": 18,
   "metadata": {},
   "outputs": [
    {
     "name": "stdout",
     "output_type": "stream",
     "text": [
      "Model: \"model_1\"\n",
      "_________________________________________________________________\n",
      "Layer (type)                 Output Shape              Param #   \n",
      "=================================================================\n",
      "input_1 (InputLayer)         (None, 25, 25, 15, 1)     0         \n",
      "_________________________________________________________________\n",
      "conv3d_1 (Conv3D)            (None, 23, 23, 9, 8)      512       \n",
      "_________________________________________________________________\n",
      "conv3d_2 (Conv3D)            (None, 21, 21, 5, 16)     5776      \n",
      "_________________________________________________________________\n",
      "conv3d_3 (Conv3D)            (None, 19, 19, 3, 32)     13856     \n",
      "_________________________________________________________________\n",
      "reshape_1 (Reshape)          (None, 19, 19, 96)        0         \n",
      "_________________________________________________________________\n",
      "conv2d_1 (Conv2D)            (None, 17, 17, 64)        55360     \n",
      "_________________________________________________________________\n",
      "flatten_1 (Flatten)          (None, 18496)             0         \n",
      "_________________________________________________________________\n",
      "dense_1 (Dense)              (None, 256)               4735232   \n",
      "_________________________________________________________________\n",
      "dropout_1 (Dropout)          (None, 256)               0         \n",
      "_________________________________________________________________\n",
      "dense_2 (Dense)              (None, 128)               32896     \n",
      "_________________________________________________________________\n",
      "dropout_2 (Dropout)          (None, 128)               0         \n",
      "_________________________________________________________________\n",
      "dense_3 (Dense)              (None, 16)                2064      \n",
      "=================================================================\n",
      "Total params: 4,845,696\n",
      "Trainable params: 4,845,696\n",
      "Non-trainable params: 0\n",
      "_________________________________________________________________\n"
     ]
    }
   ],
   "source": [
    "model.summary()"
   ]
  },
  {
   "cell_type": "code",
   "execution_count": 19,
   "metadata": {},
   "outputs": [],
   "source": [
    "# compiling the model\n",
    "adam = Adam(lr=0.001, decay=1e-06)\n",
    "model.compile(loss='categorical_crossentropy', optimizer=adam, metrics=['accuracy'])"
   ]
  },
  {
   "cell_type": "code",
   "execution_count": 20,
   "metadata": {},
   "outputs": [],
   "source": [
    "# checkpoint\n",
    "filepath = \"best-model.hdf5\"\n",
    "checkpoint = ModelCheckpoint(filepath, monitor='accuracy', verbose=1, save_best_only=True, mode='max')\n",
    "callbacks_list = [checkpoint]"
   ]
  },
  {
   "cell_type": "code",
   "execution_count": 21,
   "metadata": {},
   "outputs": [
    {
     "name": "stdout",
     "output_type": "stream",
     "text": [
      "WARNING:tensorflow:From C:\\ProgramData\\Anaconda3\\lib\\site-packages\\keras\\backend\\tensorflow_backend.py:422: The name tf.global_variables is deprecated. Please use tf.compat.v1.global_variables instead.\n",
      "\n",
      "Epoch 1/100\n",
      "541/541 [==============================] - 3s 6ms/step - loss: 2.7534 - accuracy: 0.1035\n",
      "\n",
      "Epoch 00001: accuracy improved from -inf to 0.10351, saving model to best-model.hdf5\n",
      "Epoch 2/100\n",
      "541/541 [==============================] - 0s 352us/step - loss: 2.1350 - accuracy: 0.3457\n",
      "\n",
      "Epoch 00002: accuracy improved from 0.10351 to 0.34566, saving model to best-model.hdf5\n",
      "Epoch 3/100\n",
      "541/541 [==============================] - 0s 352us/step - loss: 1.5896 - accuracy: 0.4695\n",
      "\n",
      "Epoch 00003: accuracy improved from 0.34566 to 0.46950, saving model to best-model.hdf5\n",
      "Epoch 4/100\n",
      "541/541 [==============================] - 0s 349us/step - loss: 1.2187 - accuracy: 0.5749\n",
      "\n",
      "Epoch 00004: accuracy improved from 0.46950 to 0.57486, saving model to best-model.hdf5\n",
      "Epoch 5/100\n",
      "541/541 [==============================] - 0s 352us/step - loss: 0.9109 - accuracy: 0.6691\n",
      "\n",
      "Epoch 00005: accuracy improved from 0.57486 to 0.66913, saving model to best-model.hdf5\n",
      "Epoch 6/100\n",
      "541/541 [==============================] - 0s 352us/step - loss: 0.7598 - accuracy: 0.7172\n",
      "\n",
      "Epoch 00006: accuracy improved from 0.66913 to 0.71719, saving model to best-model.hdf5\n",
      "Epoch 7/100\n",
      "541/541 [==============================] - 0s 358us/step - loss: 0.5930 - accuracy: 0.7726\n",
      "\n",
      "Epoch 00007: accuracy improved from 0.71719 to 0.77264, saving model to best-model.hdf5\n",
      "Epoch 8/100\n",
      "541/541 [==============================] - 0s 355us/step - loss: 0.5756 - accuracy: 0.7819\n",
      "\n",
      "Epoch 00008: accuracy improved from 0.77264 to 0.78189, saving model to best-model.hdf5\n",
      "Epoch 9/100\n",
      "541/541 [==============================] - 0s 351us/step - loss: 0.4004 - accuracy: 0.8558\n",
      "\n",
      "Epoch 00009: accuracy improved from 0.78189 to 0.85582, saving model to best-model.hdf5\n",
      "Epoch 10/100\n",
      "541/541 [==============================] - 0s 348us/step - loss: 0.4195 - accuracy: 0.8706\n",
      "\n",
      "Epoch 00010: accuracy improved from 0.85582 to 0.87061, saving model to best-model.hdf5\n",
      "Epoch 11/100\n",
      "541/541 [==============================] - 0s 350us/step - loss: 0.3140 - accuracy: 0.8928\n",
      "\n",
      "Epoch 00011: accuracy improved from 0.87061 to 0.89279, saving model to best-model.hdf5\n",
      "Epoch 12/100\n",
      "541/541 [==============================] - 0s 351us/step - loss: 0.3660 - accuracy: 0.8743\n",
      "\n",
      "Epoch 00012: accuracy did not improve from 0.89279\n",
      "Epoch 13/100\n",
      "541/541 [==============================] - 0s 355us/step - loss: 0.3224 - accuracy: 0.8909\n",
      "\n",
      "Epoch 00013: accuracy did not improve from 0.89279\n",
      "Epoch 14/100\n",
      "541/541 [==============================] - 0s 353us/step - loss: 0.1962 - accuracy: 0.9353\n",
      "\n",
      "Epoch 00014: accuracy improved from 0.89279 to 0.93530, saving model to best-model.hdf5\n",
      "Epoch 15/100\n",
      "541/541 [==============================] - 0s 356us/step - loss: 0.2828 - accuracy: 0.9094\n",
      "\n",
      "Epoch 00015: accuracy did not improve from 0.93530\n",
      "Epoch 16/100\n",
      "541/541 [==============================] - 0s 354us/step - loss: 0.1612 - accuracy: 0.9519\n",
      "\n",
      "Epoch 00016: accuracy improved from 0.93530 to 0.95194, saving model to best-model.hdf5\n",
      "Epoch 17/100\n",
      "541/541 [==============================] - 0s 350us/step - loss: 0.1530 - accuracy: 0.9482\n",
      "\n",
      "Epoch 00017: accuracy did not improve from 0.95194\n",
      "Epoch 18/100\n",
      "541/541 [==============================] - 0s 354us/step - loss: 0.1436 - accuracy: 0.9538\n",
      "\n",
      "Epoch 00018: accuracy improved from 0.95194 to 0.95379, saving model to best-model.hdf5\n",
      "Epoch 19/100\n",
      "541/541 [==============================] - 0s 359us/step - loss: 0.1895 - accuracy: 0.9427\n",
      "\n",
      "Epoch 00019: accuracy did not improve from 0.95379\n",
      "Epoch 20/100\n",
      "541/541 [==============================] - 0s 354us/step - loss: 0.1737 - accuracy: 0.9427\n",
      "\n",
      "Epoch 00020: accuracy did not improve from 0.95379\n",
      "Epoch 21/100\n",
      "541/541 [==============================] - 0s 352us/step - loss: 0.1843 - accuracy: 0.9556\n",
      "\n",
      "Epoch 00021: accuracy improved from 0.95379 to 0.95564, saving model to best-model.hdf5\n",
      "Epoch 22/100\n",
      "541/541 [==============================] - 0s 353us/step - loss: 0.1172 - accuracy: 0.9630\n",
      "\n",
      "Epoch 00022: accuracy improved from 0.95564 to 0.96303, saving model to best-model.hdf5\n",
      "Epoch 23/100\n",
      "541/541 [==============================] - 0s 350us/step - loss: 0.1205 - accuracy: 0.9593\n",
      "\n",
      "Epoch 00023: accuracy did not improve from 0.96303\n",
      "Epoch 24/100\n",
      "541/541 [==============================] - 0s 366us/step - loss: 0.0903 - accuracy: 0.9741\n",
      "\n",
      "Epoch 00024: accuracy improved from 0.96303 to 0.97412, saving model to best-model.hdf5\n",
      "Epoch 25/100\n",
      "541/541 [==============================] - 0s 350us/step - loss: 0.0787 - accuracy: 0.9852\n",
      "\n",
      "Epoch 00025: accuracy improved from 0.97412 to 0.98521, saving model to best-model.hdf5\n",
      "Epoch 26/100\n",
      "541/541 [==============================] - 0s 426us/step - loss: 0.0967 - accuracy: 0.9704\n",
      "\n",
      "Epoch 00026: accuracy did not improve from 0.98521\n",
      "Epoch 27/100\n",
      "541/541 [==============================] - 0s 391us/step - loss: 0.1178 - accuracy: 0.9630\n",
      "\n",
      "Epoch 00027: accuracy did not improve from 0.98521\n",
      "Epoch 28/100\n",
      "541/541 [==============================] - 0s 391us/step - loss: 0.0856 - accuracy: 0.9741\n",
      "\n",
      "Epoch 00028: accuracy did not improve from 0.98521\n",
      "Epoch 29/100\n",
      "541/541 [==============================] - 0s 365us/step - loss: 0.1044 - accuracy: 0.9667\n",
      "\n",
      "Epoch 00029: accuracy did not improve from 0.98521\n",
      "Epoch 30/100\n",
      "541/541 [==============================] - 0s 382us/step - loss: 0.0558 - accuracy: 0.9834\n",
      "\n",
      "Epoch 00030: accuracy did not improve from 0.98521\n",
      "Epoch 31/100\n",
      "541/541 [==============================] - 0s 348us/step - loss: 0.0979 - accuracy: 0.9723\n",
      "\n",
      "Epoch 00031: accuracy did not improve from 0.98521\n",
      "Epoch 32/100\n",
      "541/541 [==============================] - 0s 361us/step - loss: 0.1008 - accuracy: 0.9741\n",
      "\n",
      "Epoch 00032: accuracy did not improve from 0.98521\n",
      "Epoch 33/100\n",
      "541/541 [==============================] - 0s 342us/step - loss: 0.0513 - accuracy: 0.9852\n",
      "\n",
      "Epoch 00033: accuracy did not improve from 0.98521\n",
      "Epoch 34/100\n",
      "541/541 [==============================] - 0s 348us/step - loss: 0.0551 - accuracy: 0.9834\n",
      "\n",
      "Epoch 00034: accuracy did not improve from 0.98521\n",
      "Epoch 35/100\n",
      "541/541 [==============================] - 0s 354us/step - loss: 0.0475 - accuracy: 0.9815\n",
      "\n",
      "Epoch 00035: accuracy did not improve from 0.98521\n",
      "Epoch 36/100\n",
      "541/541 [==============================] - 0s 346us/step - loss: 0.0469 - accuracy: 0.9852\n",
      "\n",
      "Epoch 00036: accuracy did not improve from 0.98521\n",
      "Epoch 37/100\n",
      "541/541 [==============================] - 0s 357us/step - loss: 0.0624 - accuracy: 0.9889\n",
      "\n",
      "Epoch 00037: accuracy improved from 0.98521 to 0.98891, saving model to best-model.hdf5\n",
      "Epoch 38/100\n",
      "541/541 [==============================] - 0s 347us/step - loss: 0.1156 - accuracy: 0.9778\n",
      "\n",
      "Epoch 00038: accuracy did not improve from 0.98891\n",
      "Epoch 39/100\n",
      "541/541 [==============================] - 0s 378us/step - loss: 0.0509 - accuracy: 0.9834\n",
      "\n",
      "Epoch 00039: accuracy did not improve from 0.98891\n",
      "Epoch 40/100\n",
      "541/541 [==============================] - 0s 350us/step - loss: 0.0678 - accuracy: 0.9741\n",
      "\n",
      "Epoch 00040: accuracy did not improve from 0.98891\n",
      "Epoch 41/100\n",
      "541/541 [==============================] - 0s 407us/step - loss: 0.1092 - accuracy: 0.9686\n",
      "\n",
      "Epoch 00041: accuracy did not improve from 0.98891\n",
      "Epoch 42/100\n",
      "541/541 [==============================] - 0s 378us/step - loss: 0.0471 - accuracy: 0.9834\n",
      "\n",
      "Epoch 00042: accuracy did not improve from 0.98891\n",
      "Epoch 43/100\n",
      "541/541 [==============================] - 0s 354us/step - loss: 0.0503 - accuracy: 0.9871\n",
      "\n",
      "Epoch 00043: accuracy did not improve from 0.98891\n",
      "Epoch 44/100\n",
      "541/541 [==============================] - 0s 343us/step - loss: 0.0299 - accuracy: 0.9908\n",
      "\n",
      "Epoch 00044: accuracy improved from 0.98891 to 0.99076, saving model to best-model.hdf5\n",
      "Epoch 45/100\n",
      "541/541 [==============================] - 0s 356us/step - loss: 0.0394 - accuracy: 0.9852\n",
      "\n",
      "Epoch 00045: accuracy did not improve from 0.99076\n",
      "Epoch 46/100\n",
      "541/541 [==============================] - 0s 347us/step - loss: 0.0276 - accuracy: 0.9926\n",
      "\n",
      "Epoch 00046: accuracy improved from 0.99076 to 0.99261, saving model to best-model.hdf5\n",
      "Epoch 47/100\n"
     ]
    },
    {
     "name": "stdout",
     "output_type": "stream",
     "text": [
      "541/541 [==============================] - 0s 350us/step - loss: 0.0153 - accuracy: 0.9945\n",
      "\n",
      "Epoch 00047: accuracy improved from 0.99261 to 0.99445, saving model to best-model.hdf5\n",
      "Epoch 48/100\n",
      "541/541 [==============================] - 0s 344us/step - loss: 0.0380 - accuracy: 0.9889\n",
      "\n",
      "Epoch 00048: accuracy did not improve from 0.99445\n",
      "Epoch 49/100\n",
      "541/541 [==============================] - 0s 352us/step - loss: 0.0539 - accuracy: 0.9852\n",
      "\n",
      "Epoch 00049: accuracy did not improve from 0.99445\n",
      "Epoch 50/100\n",
      "541/541 [==============================] - 0s 351us/step - loss: 0.0152 - accuracy: 0.99450s - loss: 0.0157 - accuracy: 0.99\n",
      "\n",
      "Epoch 00050: accuracy did not improve from 0.99445\n",
      "Epoch 51/100\n",
      "541/541 [==============================] - 0s 345us/step - loss: 0.0185 - accuracy: 0.9945\n",
      "\n",
      "Epoch 00051: accuracy did not improve from 0.99445\n",
      "Epoch 52/100\n",
      "541/541 [==============================] - 0s 348us/step - loss: 0.0293 - accuracy: 0.9963\n",
      "\n",
      "Epoch 00052: accuracy improved from 0.99445 to 0.99630, saving model to best-model.hdf5\n",
      "Epoch 53/100\n",
      "541/541 [==============================] - 0s 344us/step - loss: 0.0173 - accuracy: 0.9963\n",
      "\n",
      "Epoch 00053: accuracy did not improve from 0.99630\n",
      "Epoch 54/100\n",
      "541/541 [==============================] - 0s 350us/step - loss: 0.0304 - accuracy: 0.9908\n",
      "\n",
      "Epoch 00054: accuracy did not improve from 0.99630\n",
      "Epoch 55/100\n",
      "541/541 [==============================] - 0s 350us/step - loss: 0.0143 - accuracy: 0.9945\n",
      "\n",
      "Epoch 00055: accuracy did not improve from 0.99630\n",
      "Epoch 56/100\n",
      "541/541 [==============================] - 0s 351us/step - loss: 0.0076 - accuracy: 0.9982\n",
      "\n",
      "Epoch 00056: accuracy improved from 0.99630 to 0.99815, saving model to best-model.hdf5\n",
      "Epoch 57/100\n",
      "541/541 [==============================] - 0s 351us/step - loss: 0.0227 - accuracy: 0.9945\n",
      "\n",
      "Epoch 00057: accuracy did not improve from 0.99815\n",
      "Epoch 58/100\n",
      "541/541 [==============================] - 0s 358us/step - loss: 0.0182 - accuracy: 0.9945\n",
      "\n",
      "Epoch 00058: accuracy did not improve from 0.99815\n",
      "Epoch 59/100\n",
      "541/541 [==============================] - 0s 381us/step - loss: 0.0328 - accuracy: 0.9889\n",
      "\n",
      "Epoch 00059: accuracy did not improve from 0.99815\n",
      "Epoch 60/100\n",
      "541/541 [==============================] - 0s 368us/step - loss: 0.0069 - accuracy: 0.9982\n",
      "\n",
      "Epoch 00060: accuracy did not improve from 0.99815\n",
      "Epoch 61/100\n",
      "541/541 [==============================] - 0s 406us/step - loss: 0.0540 - accuracy: 0.9852\n",
      "\n",
      "Epoch 00061: accuracy did not improve from 0.99815\n",
      "Epoch 62/100\n",
      "541/541 [==============================] - 0s 404us/step - loss: 0.0406 - accuracy: 0.9982\n",
      "\n",
      "Epoch 00062: accuracy did not improve from 0.99815\n",
      "Epoch 63/100\n",
      "541/541 [==============================] - 0s 426us/step - loss: 0.0307 - accuracy: 0.9852\n",
      "\n",
      "Epoch 00063: accuracy did not improve from 0.99815\n",
      "Epoch 64/100\n",
      "541/541 [==============================] - 0s 430us/step - loss: 0.0208 - accuracy: 0.9926\n",
      "\n",
      "Epoch 00064: accuracy did not improve from 0.99815\n",
      "Epoch 65/100\n",
      "541/541 [==============================] - 0s 406us/step - loss: 0.0262 - accuracy: 0.9926\n",
      "\n",
      "Epoch 00065: accuracy did not improve from 0.99815\n",
      "Epoch 66/100\n",
      "541/541 [==============================] - 0s 404us/step - loss: 0.0163 - accuracy: 0.9926\n",
      "\n",
      "Epoch 00066: accuracy did not improve from 0.99815\n",
      "Epoch 67/100\n",
      "541/541 [==============================] - 0s 350us/step - loss: 0.0156 - accuracy: 0.9926\n",
      "\n",
      "Epoch 00067: accuracy did not improve from 0.99815\n",
      "Epoch 68/100\n",
      "541/541 [==============================] - 0s 350us/step - loss: 0.0053 - accuracy: 0.9982\n",
      "\n",
      "Epoch 00068: accuracy did not improve from 0.99815\n",
      "Epoch 69/100\n",
      "541/541 [==============================] - 0s 349us/step - loss: 0.0081 - accuracy: 0.9982\n",
      "\n",
      "Epoch 00069: accuracy did not improve from 0.99815\n",
      "Epoch 70/100\n",
      "541/541 [==============================] - 0s 347us/step - loss: 0.0073 - accuracy: 0.9982\n",
      "\n",
      "Epoch 00070: accuracy did not improve from 0.99815\n",
      "Epoch 71/100\n",
      "541/541 [==============================] - 0s 398us/step - loss: 0.0025 - accuracy: 1.0000\n",
      "\n",
      "Epoch 00071: accuracy improved from 0.99815 to 1.00000, saving model to best-model.hdf5\n",
      "Epoch 72/100\n",
      "541/541 [==============================] - 0s 350us/step - loss: 0.0073 - accuracy: 0.9982\n",
      "\n",
      "Epoch 00072: accuracy did not improve from 1.00000\n",
      "Epoch 73/100\n",
      "541/541 [==============================] - 0s 345us/step - loss: 0.0130 - accuracy: 0.9945\n",
      "\n",
      "Epoch 00073: accuracy did not improve from 1.00000\n",
      "Epoch 74/100\n",
      "541/541 [==============================] - 0s 352us/step - loss: 0.0158 - accuracy: 0.9982\n",
      "\n",
      "Epoch 00074: accuracy did not improve from 1.00000\n",
      "Epoch 75/100\n",
      "541/541 [==============================] - 0s 348us/step - loss: 0.0043 - accuracy: 1.0000\n",
      "\n",
      "Epoch 00075: accuracy did not improve from 1.00000\n",
      "Epoch 76/100\n",
      "541/541 [==============================] - 0s 355us/step - loss: 0.0078 - accuracy: 0.9963\n",
      "\n",
      "Epoch 00076: accuracy did not improve from 1.00000\n",
      "Epoch 77/100\n",
      "541/541 [==============================] - 0s 413us/step - loss: 0.0133 - accuracy: 0.9945\n",
      "\n",
      "Epoch 00077: accuracy did not improve from 1.00000\n",
      "Epoch 78/100\n",
      "541/541 [==============================] - 0s 389us/step - loss: 0.0016 - accuracy: 1.0000\n",
      "\n",
      "Epoch 00078: accuracy did not improve from 1.00000\n",
      "Epoch 79/100\n",
      "541/541 [==============================] - 0s 412us/step - loss: 0.0025 - accuracy: 1.0000\n",
      "\n",
      "Epoch 00079: accuracy did not improve from 1.00000\n",
      "Epoch 80/100\n",
      "541/541 [==============================] - 0s 423us/step - loss: 0.0055 - accuracy: 0.9963\n",
      "\n",
      "Epoch 00080: accuracy did not improve from 1.00000\n",
      "Epoch 81/100\n",
      "541/541 [==============================] - 0s 417us/step - loss: 0.0016 - accuracy: 1.0000\n",
      "\n",
      "Epoch 00081: accuracy did not improve from 1.00000\n",
      "Epoch 82/100\n",
      "541/541 [==============================] - 0s 404us/step - loss: 0.0055 - accuracy: 0.9963\n",
      "\n",
      "Epoch 00082: accuracy did not improve from 1.00000\n",
      "Epoch 83/100\n",
      "541/541 [==============================] - 0s 356us/step - loss: 0.0011 - accuracy: 1.00000s - loss: 0.0011 - accuracy: 1.00\n",
      "\n",
      "Epoch 00083: accuracy did not improve from 1.00000\n",
      "Epoch 84/100\n",
      "541/541 [==============================] - 0s 358us/step - loss: 0.0091 - accuracy: 0.9963\n",
      "\n",
      "Epoch 00084: accuracy did not improve from 1.00000\n",
      "Epoch 85/100\n",
      "541/541 [==============================] - 0s 349us/step - loss: 0.0010 - accuracy: 1.0000\n",
      "\n",
      "Epoch 00085: accuracy did not improve from 1.00000\n",
      "Epoch 86/100\n",
      "541/541 [==============================] - 0s 350us/step - loss: 0.0047 - accuracy: 0.9982\n",
      "\n",
      "Epoch 00086: accuracy did not improve from 1.00000\n",
      "Epoch 87/100\n",
      "541/541 [==============================] - 0s 355us/step - loss: 0.0031 - accuracy: 0.9982\n",
      "\n",
      "Epoch 00087: accuracy did not improve from 1.00000\n",
      "Epoch 88/100\n",
      "541/541 [==============================] - 0s 378us/step - loss: 0.0017 - accuracy: 1.0000\n",
      "\n",
      "Epoch 00088: accuracy did not improve from 1.00000\n",
      "Epoch 89/100\n",
      "541/541 [==============================] - 0s 348us/step - loss: 0.0022 - accuracy: 1.0000\n",
      "\n",
      "Epoch 00089: accuracy did not improve from 1.00000\n",
      "Epoch 90/100\n",
      "541/541 [==============================] - 0s 389us/step - loss: 0.0217 - accuracy: 0.9963\n",
      "\n",
      "Epoch 00090: accuracy did not improve from 1.00000\n",
      "Epoch 91/100\n",
      "541/541 [==============================] - 0s 372us/step - loss: 0.0035 - accuracy: 0.9982\n",
      "\n",
      "Epoch 00091: accuracy did not improve from 1.00000\n",
      "Epoch 92/100\n",
      "541/541 [==============================] - 0s 344us/step - loss: 0.0032 - accuracy: 0.9982\n",
      "\n",
      "Epoch 00092: accuracy did not improve from 1.00000\n",
      "Epoch 93/100\n",
      "541/541 [==============================] - 0s 352us/step - loss: 0.0101 - accuracy: 0.9982\n",
      "\n",
      "Epoch 00093: accuracy did not improve from 1.00000\n",
      "Epoch 94/100\n",
      "541/541 [==============================] - 0s 347us/step - loss: 0.0053 - accuracy: 0.9982\n",
      "\n",
      "Epoch 00094: accuracy did not improve from 1.00000\n",
      "Epoch 95/100\n",
      "541/541 [==============================] - 0s 347us/step - loss: 0.0034 - accuracy: 0.9982\n",
      "\n",
      "Epoch 00095: accuracy did not improve from 1.00000\n",
      "Epoch 96/100\n",
      "541/541 [==============================] - 0s 348us/step - loss: 0.0136 - accuracy: 0.9945\n",
      "\n",
      "Epoch 00096: accuracy did not improve from 1.00000\n",
      "Epoch 97/100\n",
      "541/541 [==============================] - 0s 347us/step - loss: 0.0345 - accuracy: 0.9926\n",
      "\n",
      "Epoch 00097: accuracy did not improve from 1.00000\n",
      "Epoch 98/100\n"
     ]
    },
    {
     "name": "stdout",
     "output_type": "stream",
     "text": [
      "541/541 [==============================] - 0s 351us/step - loss: 0.0199 - accuracy: 0.9982\n",
      "\n",
      "Epoch 00098: accuracy did not improve from 1.00000\n",
      "Epoch 99/100\n",
      "541/541 [==============================] - 0s 346us/step - loss: 0.0064 - accuracy: 0.9963\n",
      "\n",
      "Epoch 00099: accuracy did not improve from 1.00000\n",
      "Epoch 100/100\n",
      "541/541 [==============================] - 0s 350us/step - loss: 0.0263 - accuracy: 0.9963\n",
      "\n",
      "Epoch 00100: accuracy did not improve from 1.00000\n"
     ]
    }
   ],
   "source": [
    "history = model.fit(x=Xtrain, y=ytrain, batch_size=256, epochs=100, callbacks=callbacks_list)"
   ]
  },
  {
   "cell_type": "markdown",
   "metadata": {},
   "source": [
    "plt.figure(figsize=(7,7))\n",
    "plt.grid()\n",
    "plt.plot(history.history['loss'])\n",
    "#plt.plot(history.history['val_loss'])\n",
    "plt.ylabel('Loss')\n",
    "plt.xlabel('Epochs')\n",
    "plt.legend(['Training','Validation'], loc='upper right')\n",
    "plt.savefig(\"loss_curve.pdf\")\n",
    "plt.show()"
   ]
  },
  {
   "cell_type": "markdown",
   "metadata": {},
   "source": [
    "plt.figure(figsize=(5,5))\n",
    "plt.ylim(0,1.1)\n",
    "plt.grid()\n",
    "plt.plot(history.history['acc'])\n",
    "#plt.plot(history.history['val_acc'])\n",
    "plt.ylabel('Accuracy')\n",
    "plt.xlabel('Epochs')\n",
    "plt.legend(['Training','Validation'])\n",
    "plt.savefig(\"acc_curve.pdf\")\n",
    "plt.show()"
   ]
  },
  {
   "cell_type": "markdown",
   "metadata": {},
   "source": [
    "# Validation"
   ]
  },
  {
   "cell_type": "code",
   "execution_count": 22,
   "metadata": {},
   "outputs": [],
   "source": [
    "# load best weights\n",
    "model.load_weights(\"best-model.hdf5\")\n",
    "model.compile(loss='categorical_crossentropy', optimizer=adam, metrics=['accuracy'])"
   ]
  },
  {
   "cell_type": "code",
   "execution_count": 23,
   "metadata": {},
   "outputs": [
    {
     "data": {
      "text/plain": [
       "(53588, 25, 25, 15, 1)"
      ]
     },
     "execution_count": 23,
     "metadata": {},
     "output_type": "execute_result"
    }
   ],
   "source": [
    "Xtest = Xtest.reshape(-1, windowSize, windowSize, K, 1)\n",
    "Xtest.shape"
   ]
  },
  {
   "cell_type": "code",
   "execution_count": 24,
   "metadata": {},
   "outputs": [
    {
     "data": {
      "text/plain": [
       "(53588, 16)"
      ]
     },
     "execution_count": 24,
     "metadata": {},
     "output_type": "execute_result"
    }
   ],
   "source": [
    "ytest = np_utils.to_categorical(ytest)\n",
    "ytest.shape"
   ]
  },
  {
   "cell_type": "code",
   "execution_count": 25,
   "metadata": {},
   "outputs": [
    {
     "name": "stdout",
     "output_type": "stream",
     "text": [
      "              precision    recall  f1-score   support\n",
      "\n",
      "           0       0.98      1.00      0.99      1989\n",
      "           1       1.00      1.00      1.00      3689\n",
      "           2       1.00      1.00      1.00      1956\n",
      "           3       0.99      1.00      1.00      1380\n",
      "           4       1.00      1.00      1.00      2651\n",
      "           5       1.00      1.00      1.00      3920\n",
      "           6       1.00      1.00      1.00      3543\n",
      "           7       0.94      1.00      0.97     11158\n",
      "           8       1.00      1.00      1.00      6141\n",
      "           9       1.00      1.00      1.00      3245\n",
      "          10       1.00      0.97      0.98      1057\n",
      "          11       1.00      0.99      0.99      1908\n",
      "          12       0.97      0.97      0.97       907\n",
      "          13       0.97      1.00      0.99      1059\n",
      "          14       1.00      0.90      0.95      7196\n",
      "          15       1.00      1.00      1.00      1789\n",
      "\n",
      "    accuracy                           0.98     53588\n",
      "   macro avg       0.99      0.99      0.99     53588\n",
      "weighted avg       0.99      0.98      0.98     53588\n",
      "\n"
     ]
    }
   ],
   "source": [
    "Y_pred_test = model.predict(Xtest)\n",
    "y_pred_test = np.argmax(Y_pred_test, axis=1)\n",
    "\n",
    "classification = classification_report(np.argmax(ytest, axis=1), y_pred_test)\n",
    "print(classification)"
   ]
  },
  {
   "cell_type": "code",
   "execution_count": 26,
   "metadata": {},
   "outputs": [],
   "source": [
    "def AA_andEachClassAccuracy(confusion_matrix):\n",
    "    counter = confusion_matrix.shape[0]\n",
    "    list_diag = np.diag(confusion_matrix)\n",
    "    list_raw_sum = np.sum(confusion_matrix, axis=1)\n",
    "    each_acc = np.nan_to_num(truediv(list_diag, list_raw_sum))\n",
    "    average_acc = np.mean(each_acc)\n",
    "    return each_acc, average_acc"
   ]
  },
  {
   "cell_type": "code",
   "execution_count": 27,
   "metadata": {},
   "outputs": [],
   "source": [
    "def reports (X_test,y_test,name):\n",
    "    #start = time.time()\n",
    "    Y_pred = model.predict(X_test)\n",
    "    y_pred = np.argmax(Y_pred, axis=1)\n",
    "    #end = time.time()\n",
    "    #print(end - start)\n",
    "    if name == 'IP':\n",
    "        target_names = ['Alfalfa', 'Corn-notill', 'Corn-mintill', 'Corn'\n",
    "                        ,'Grass-pasture', 'Grass-trees', 'Grass-pasture-mowed', \n",
    "                        'Hay-windrowed', 'Oats', 'Soybean-notill', 'Soybean-mintill',\n",
    "                        'Soybean-clean', 'Wheat', 'Woods', 'Buildings-Grass-Trees-Drives',\n",
    "                        'Stone-Steel-Towers']\n",
    "    elif name == 'SA':\n",
    "        target_names = ['Brocoli_green_weeds_1','Brocoli_green_weeds_2','Fallow','Fallow_rough_plow','Fallow_smooth',\n",
    "                        'Stubble','Celery','Grapes_untrained','Soil_vinyard_develop','Corn_senesced_green_weeds',\n",
    "                        'Lettuce_romaine_4wk','Lettuce_romaine_5wk','Lettuce_romaine_6wk','Lettuce_romaine_7wk',\n",
    "                        'Vinyard_untrained','Vinyard_vertical_trellis']\n",
    "    elif name == 'PU':\n",
    "        target_names = ['Asphalt','Meadows','Gravel','Trees', 'Painted metal sheets','Bare Soil','Bitumen',\n",
    "                        'Self-Blocking Bricks','Shadows']\n",
    "    \n",
    "    classification = classification_report(np.argmax(y_test, axis=1), y_pred, target_names=target_names)\n",
    "    oa = accuracy_score(np.argmax(y_test, axis=1), y_pred)\n",
    "    confusion = confusion_matrix(np.argmax(y_test, axis=1), y_pred)\n",
    "    each_acc, aa = AA_andEachClassAccuracy(confusion)\n",
    "    kappa = cohen_kappa_score(np.argmax(y_test, axis=1), y_pred)\n",
    "    score = model.evaluate(X_test, y_test, batch_size=32)\n",
    "    Test_Loss =  score[0]*100\n",
    "    Test_accuracy = score[1]*100\n",
    "    \n",
    "    return classification, confusion, Test_Loss, Test_accuracy, oa*100, each_acc*100, aa*100, kappa*100"
   ]
  },
  {
   "cell_type": "code",
   "execution_count": 28,
   "metadata": {},
   "outputs": [
    {
     "name": "stdout",
     "output_type": "stream",
     "text": [
      "53588/53588 [==============================] - 11s 200us/step\n"
     ]
    }
   ],
   "source": [
    "classification, confusion, Test_loss, Test_accuracy, oa, each_acc, aa, kappa = reports(Xtest,ytest,dataset)\n",
    "classification = str(classification)\n",
    "confusion = str(confusion)\n",
    "file_name = \"classification_report.txt\"\n",
    "\n",
    "with open(file_name, 'w') as x_file:\n",
    "    x_file.write('{} Test loss (%)'.format(Test_loss))\n",
    "    x_file.write('\\n')\n",
    "    x_file.write('{} Test accuracy (%)'.format(Test_accuracy))\n",
    "    x_file.write('\\n')\n",
    "    x_file.write('\\n')\n",
    "    x_file.write('{} Kappa accuracy (%)'.format(kappa))\n",
    "    x_file.write('\\n')\n",
    "    x_file.write('{} Overall accuracy (%)'.format(oa))\n",
    "    x_file.write('\\n')\n",
    "    x_file.write('{} Average accuracy (%)'.format(aa))\n",
    "    x_file.write('\\n')\n",
    "    x_file.write('\\n')\n",
    "    x_file.write('{}'.format(classification))\n",
    "    x_file.write('\\n')\n",
    "    x_file.write('{}'.format(confusion))"
   ]
  },
  {
   "cell_type": "code",
   "execution_count": 29,
   "metadata": {},
   "outputs": [],
   "source": [
    "def Patch(data,height_index,width_index):\n",
    "    height_slice = slice(height_index, height_index+PATCH_SIZE)\n",
    "    width_slice = slice(width_index, width_index+PATCH_SIZE)\n",
    "    patch = data[height_slice, width_slice, :]\n",
    "    \n",
    "    return patch"
   ]
  },
  {
   "cell_type": "code",
   "execution_count": 30,
   "metadata": {},
   "outputs": [],
   "source": [
    "# load the original image\n",
    "X, y = loadData(dataset)"
   ]
  },
  {
   "cell_type": "code",
   "execution_count": 31,
   "metadata": {},
   "outputs": [],
   "source": [
    "height = y.shape[0]\n",
    "width = y.shape[1]\n",
    "PATCH_SIZE = windowSize\n",
    "numComponents = K"
   ]
  },
  {
   "cell_type": "code",
   "execution_count": 32,
   "metadata": {},
   "outputs": [],
   "source": [
    "X,pca = applyPCA(X, numComponents=numComponents)"
   ]
  },
  {
   "cell_type": "code",
   "execution_count": 33,
   "metadata": {},
   "outputs": [],
   "source": [
    "X = padWithZeros(X, PATCH_SIZE//2)"
   ]
  },
  {
   "cell_type": "code",
   "execution_count": 34,
   "metadata": {},
   "outputs": [],
   "source": [
    "# calculate the predicted image\n",
    "outputs = np.zeros((height,width))\n",
    "for i in range(height):\n",
    "    for j in range(width):\n",
    "        target = int(y[i,j])\n",
    "        if target == 0 :\n",
    "            continue\n",
    "        else :\n",
    "            image_patch=Patch(X,i,j)\n",
    "            X_test_image = image_patch.reshape(1,image_patch.shape[0],image_patch.shape[1], image_patch.shape[2], 1).astype('float32')                                   \n",
    "            prediction = (model.predict(X_test_image))\n",
    "            prediction = np.argmax(prediction, axis=1)\n",
    "            outputs[i][j] = prediction+1"
   ]
  },
  {
   "cell_type": "code",
   "execution_count": 35,
   "metadata": {},
   "outputs": [
    {
     "data": {
      "image/png": "[encoded data removed]",
      "text/plain": [
       "<Figure size 504x504 with 1 Axes>"
      ]
     },
     "metadata": {
      "needs_background": "light"
     },
     "output_type": "display_data"
    }
   ],
   "source": [
    "ground_truth = spectral.imshow(classes = y,figsize =(7,7))"
   ]
  },
  {
   "cell_type": "code",
   "execution_count": 36,
   "metadata": {},
   "outputs": [
    {
     "data": {
      "image/png": "[encoded data removed]",
      "text/plain": [
       "<Figure size 504x504 with 1 Axes>"
      ]
     },
     "metadata": {
      "needs_background": "light"
     },
     "output_type": "display_data"
    }
   ],
   "source": [
    "predict_image = spectral.imshow(classes = outputs.astype(int),figsize =(7,7))"
   ]
  },
  {
   "cell_type": "code",
   "execution_count": 37,
   "metadata": {},
   "outputs": [],
   "source": [
    "spectral.save_rgb(\"predictions.jpg\", outputs.astype(int), colors=spectral.spy_colors)"
   ]
  },
  {
   "cell_type": "markdown",
   "metadata": {},
   "source": [
    "spectral.save_rgb(str(dataset)+\"_ground_truth.jpg\", y, colors=spectral.spy_colors)"
   ]
  }
 ],
 "metadata": {
  "kernelspec": {
   "display_name": "Python 3",
   "language": "python",
   "name": "python3"
  },
  "language_info": {
   "codemirror_mode": {
    "name": "ipython",
    "version": 3
   },
   "file_extension": ".py",
   "mimetype": "text/x-python",
   "name": "python",
   "nbconvert_exporter": "python",
   "pygments_lexer": "ipython3",
   "version": "3.7.4"
  }
 },
 "nbformat": 4,
 "nbformat_minor": 2
}
